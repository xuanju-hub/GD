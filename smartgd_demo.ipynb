{
 "cells": [
  {
   "cell_type": "code",
   "execution_count": 1,
   "id": "61bcb190-671c-4e75-9469-1bd4c801c29d",
   "metadata": {},
   "outputs": [],
   "source": [
    "%load_ext autoreload\n",
    "%autoreload 2"
   ]
  },
  {
   "cell_type": "code",
   "execution_count": 2,
   "id": "4b5d7c53-d37c-4c03-9713-cd8ffaa6d0dd",
   "metadata": {},
   "outputs": [],
   "source": [
    "import pandas as pd\n",
    "import numpy as np\n",
    "import torch\n",
    "import torch_geometric as pyg\n",
    "from tqdm.auto import *\n",
    "\n",
    "from smartgd.model import Generator, Discriminator\n",
    "from smartgd.data import GraphDrawingData\n",
    "from smartgd.datasets import  RomeDataset\n",
    "from smartgd.metrics import Stress, Crossings\n",
    "from smartgd.transformations import Compose, Center, NormalizeRotation, RescaleByStress\n",
    "from smartgd.criteria import RGANCriterion"
   ]
  },
  {
   "cell_type": "code",
   "execution_count": 3,
   "id": "1ecb6a05-deff-4ebc-a4be-7e3bd2ffada5",
   "metadata": {},
   "outputs": [],
   "source": [
    "device = \"cpu\"\n",
    "for backend, device_name in {\n",
    "    # torch.backends.mps: \"mps\",\n",
    "    torch.cuda: \"cuda\",\n",
    "}.items():\n",
    "    if backend.is_available():\n",
    "        device = device_name"
   ]
  },
  {
   "cell_type": "code",
   "execution_count": 5,
   "id": "f5438faa-6332-46be-92c3-f80337e46009",
   "metadata": {},
   "outputs": [
    {
     "name": "stderr",
     "output_type": "stream",
     "text": [
      "/home/hdwu/miniconda3/envs/smartgd/lib/python3.11/site-packages/torch_geometric/data/dataset.py:213: FutureWarning: You are using `torch.load` with `weights_only=False` (the current default value), which uses the default pickle module implicitly. It is possible to construct malicious pickle data which will execute arbitrary code during unpickling (See https://github.com/pytorch/pytorch/blob/main/SECURITY.md#untrusted-models for more details). In a future release, the default value for `weights_only` will be flipped to `True`. This limits the functions that could be executed during unpickling. Arbitrary objects will no longer be allowed to be loaded via this mode unless they are explicitly allowlisted by the user via `torch.serialization.add_safe_globals`. We recommend you start setting `weights_only=True` for any use case where you don't have full control of the loaded file. Please open an issue on GitHub for any issues related to this experimental feature.\n",
      "  if osp.exists(f) and torch.load(f) != _repr(self.pre_transform):\n",
      "/home/hdwu/miniconda3/envs/smartgd/lib/python3.11/site-packages/torch_geometric/data/dataset.py:221: FutureWarning: You are using `torch.load` with `weights_only=False` (the current default value), which uses the default pickle module implicitly. It is possible to construct malicious pickle data which will execute arbitrary code during unpickling (See https://github.com/pytorch/pytorch/blob/main/SECURITY.md#untrusted-models for more details). In a future release, the default value for `weights_only` will be flipped to `True`. This limits the functions that could be executed during unpickling. Arbitrary objects will no longer be allowed to be loaded via this mode unless they are explicitly allowlisted by the user via `torch.serialization.add_safe_globals`. We recommend you start setting `weights_only=True` for any use case where you don't have full control of the loaded file. Please open an issue on GitHub for any issues related to this experimental feature.\n",
      "  if osp.exists(f) and torch.load(f) != _repr(self.pre_filter):\n",
      "/home/hdwu/new_work/xj_project/SmartGD/smartgd/datasets/rome_dataset.py:41: FutureWarning: You are using `torch.load` with `weights_only=False` (the current default value), which uses the default pickle module implicitly. It is possible to construct malicious pickle data which will execute arbitrary code during unpickling (See https://github.com/pytorch/pytorch/blob/main/SECURITY.md#untrusted-models for more details). In a future release, the default value for `weights_only` will be flipped to `True`. This limits the functions that could be executed during unpickling. Arbitrary objects will no longer be allowed to be loaded via this mode unless they are explicitly allowlisted by the user via `torch.serialization.add_safe_globals`. We recommend you start setting `weights_only=True` for any use case where you don't have full control of the loaded file. Please open an issue on GitHub for any issues related to this experimental feature.\n",
      "  self.data, self.slices = torch.load(self.data_path)\n"
     ]
    },
    {
     "data": {
      "text/plain": "Transform graphs:   0%|          | 0/11531 [00:00<?, ?it/s]",
      "application/vnd.jupyter.widget-view+json": {
       "version_major": 2,
       "version_minor": 0,
       "model_id": "5e0ffd16ea16466c8889b496ebb6a6e1"
      }
     },
     "metadata": {},
     "output_type": "display_data"
    }
   ],
   "source": [
    "GraphDrawingData.set_optional_fields([\n",
    "    \"edge_pair_metaindex\",\n",
    "    # \"face\",\n",
    "    # \"rng\"\n",
    "])\n",
    "dataset = RomeDataset(\n",
    "    index=pd.read_csv(\"assets/rome_index.txt\", header=None)[0],\n",
    ")\n",
    "init_layouts = np.load(\"assets/layouts/pmds.npy\", allow_pickle=True)\n",
    "target_layouts = np.load(\"assets/layouts/pmds.npy\", allow_pickle=True)\n",
    "generator = Generator(\n",
    "    params=Generator.Params(\n",
    "        num_blocks=11,\n",
    "        block_depth=3,\n",
    "        block_width=8,\n",
    "        block_output_dim=8,\n",
    "        edge_net_depth=2,\n",
    "        edge_net_width=16,\n",
    "        edge_attr_dim=2,\n",
    "        node_attr_dim=2,\n",
    "    ),\n",
    ").to(device)\n",
    "discriminator = Discriminator(\n",
    "    params=Discriminator.Params(\n",
    "        num_layers=9,\n",
    "        hidden_width=16,\n",
    "        edge_net_shared_depth=8,\n",
    "        edge_net_embedded_depth=8,\n",
    "        edge_net_width=64,\n",
    "        edge_attr_dim=2\n",
    "    )\n",
    ").to(device)\n",
    "canonicalizer = Compose(\n",
    "    Center(),\n",
    "    NormalizeRotation(),\n",
    "    RescaleByStress(),\n",
    ")\n",
    "metrics = {\n",
    "    # Stress(): 1,\n",
    "    Crossings(): 1,\n",
    "    # dgd.EdgeVar(): 0,\n",
    "    # dgd.Occlusion(): 0,\n",
    "    # dgd.IncidentAngle(): 0,\n",
    "    # dgd.TSNEScore(): 0,\n",
    "}\n",
    "tie_break_metrics = {\n",
    "    Stress(): 1\n",
    "}\n",
    "criterion = RGANCriterion()\n",
    "gen_optim = torch.optim.AdamW(generator.parameters(), lr=max_lr)\n",
    "dis_optim = torch.optim.AdamW(discriminator.parameters(), lr=max_lr)"
   ]
  },
  {
   "cell_type": "code",
   "execution_count": 4,
   "outputs": [],
   "source": [
    "model_name = \"ckpts-xin\"\n",
    "batch_size = 16\n",
    "start_epoch = 86\n",
    "max_epoch = 2000\n",
    "max_lr = 0.01\n",
    "min_lr = 0.0001\n",
    "wr_period = 200"
   ],
   "metadata": {
    "collapsed": false
   }
  },
  {
   "cell_type": "code",
   "execution_count": 6,
   "id": "20544c19d8ad0e27",
   "metadata": {},
   "outputs": [],
   "source": [
    "if start_epoch:\n",
    "    generator.load_state_dict(torch.load(f\"./{model_name}/generator_{start_epoch-1}.pt\"))\n",
    "    discriminator.load_state_dict(torch.load(f\"./{model_name}/discriminator_{start_epoch-1}.pt\"))\n",
    "    gen_optim.load_state_dict(torch.load(f\"./{model_name}/gen_optim_{start_epoch-1}.pt\"))\n",
    "    dis_optim.load_state_dict(torch.load(f\"./{model_name}/dis_optim_{start_epoch-1}.pt\"))\n",
    "    target_layouts = torch.load(f\"./{model_name}/layouts_{start_epoch-1}.pt\")\n",
    "gen_scheduler = torch.optim.lr_scheduler.CosineAnnealingWarmRestarts(gen_optim, T_0=wr_period, eta_min=min_lr, last_epoch=start_epoch-1)\n",
    "dis_scheduler = torch.optim.lr_scheduler.CosineAnnealingWarmRestarts(dis_optim, T_0=wr_period, eta_min=min_lr, last_epoch=start_epoch-1)"
   ]
  },
  {
   "cell_type": "code",
   "execution_count": 7,
   "id": "60bc240f4580a316",
   "metadata": {},
   "outputs": [],
   "source": [
    "def create_dataloaders():\n",
    "    datalist = list(dataset)\n",
    "    for i, data in enumerate(datalist):\n",
    "        data.pos = torch.tensor(init_layouts[i]).float()\n",
    "        data.target_pos = torch.tensor(target_layouts[i]).float()\n",
    "        data.fake_pos = torch.zeros_like(data.target_pos)\n",
    "        data.index = i\n",
    "    train_loader = pyg.loader.DataLoader(datalist[:10000], batch_size=batch_size, shuffle=True)\n",
    "    val_loader = pyg.loader.DataLoader(datalist[11000:], batch_size=batch_size, shuffle=False)\n",
    "    test_loader = pyg.loader.DataLoader(datalist[10000:11000], batch_size=batch_size, shuffle=False)\n",
    "    return train_loader, val_loader, test_loader"
   ]
  },
  {
   "cell_type": "code",
   "execution_count": 8,
   "id": "933f88a3b2e9bc8",
   "metadata": {},
   "outputs": [],
   "source": [
    "def generate_init_pos(batch):\n",
    "    # pos = torch.rand_like(batch.pos)\n",
    "    pos = canonicalizer(\n",
    "        pos=batch.pos,\n",
    "        apsp=batch.apsp_attr,\n",
    "        edge_index=batch.perm_index,\n",
    "        batch_index=batch.batch,\n",
    "    )\n",
    "    return pos\n",
    "\n",
    "def get_edge_features(all_pair_shortest_path):\n",
    "    return torch.cat([\n",
    "        all_pair_shortest_path[:, None],\n",
    "        1 / all_pair_shortest_path[:, None].square()\n",
    "    ], dim=-1)"
   ]
  },
  {
   "cell_type": "code",
   "execution_count": 9,
   "id": "4054476395c36e30",
   "metadata": {},
   "outputs": [],
   "source": [
    "def evaluate(pos, batch):\n",
    "    score = 0\n",
    "    for c, w in metrics.items():\n",
    "        score += w * c(pos, batch.perm_index, batch.apsp_attr, batch.batch, batch.edge_pair_index)\n",
    "    return score\n",
    "\n",
    "def evaluate_tie(pos, batch):\n",
    "    score = 0\n",
    "    for c, w in tie_break_metrics.items():\n",
    "        score += w * c(pos, batch.perm_index, batch.apsp_attr, batch.batch, batch.edge_pair_index)\n",
    "    return score"
   ]
  },
  {
   "cell_type": "code",
   "execution_count": 10,
   "id": "f266d1f162a0d272",
   "metadata": {},
   "outputs": [],
   "source": [
    "def forward(batch, train=False):\n",
    "    edge_attr = get_edge_features(batch.apsp_attr)\n",
    "    pred = generator(\n",
    "        init_pos=generate_init_pos(batch),\n",
    "        edge_index=batch.perm_index,\n",
    "        edge_attr=edge_attr,\n",
    "        batch_index=batch.batch,\n",
    "    )\n",
    "    fake_pos = canonicalizer(pred, batch.apsp_attr, batch.perm_index, batch.batch)\n",
    "    fake_score = evaluate(fake_pos, batch)\n",
    "    output = {\n",
    "        'fake_pos': fake_pos,\n",
    "        'fake_score': fake_score,\n",
    "    }\n",
    "    if train:\n",
    "        fake_tie_break_score = evaluate_tie(fake_pos, batch)\n",
    "        fake_logits = discriminator(\n",
    "            pos=fake_pos,\n",
    "            edge_index=batch.perm_index,\n",
    "            edge_attr=edge_attr,\n",
    "            batch_index=batch.batch,\n",
    "        )\n",
    "        real_pos = canonicalizer(batch.target_pos, batch.apsp_attr, batch.perm_index, batch.batch)\n",
    "        real_score = evaluate(real_pos, batch)\n",
    "        real_tie_break_score = evaluate_tie(real_pos, batch)\n",
    "        real_logits = discriminator(\n",
    "            pos=real_pos,\n",
    "            edge_index=batch.perm_index,\n",
    "            edge_attr=edge_attr,\n",
    "            batch_index=batch.batch,\n",
    "        )\n",
    "        fake_better = (fake_score < real_score) | ((fake_score == real_score) & (fake_tie_break_score < real_tie_break_score))\n",
    "        good_logits = torch.cat([\n",
    "            fake_logits[fake_better],\n",
    "            real_logits[~fake_better],\n",
    "        ])\n",
    "        bad_logits = torch.cat([\n",
    "            real_logits[fake_better],\n",
    "            fake_logits[~fake_better],\n",
    "        ])\n",
    "        output |= {\n",
    "            'fake_logits': fake_logits,\n",
    "            'real_pos': real_pos,\n",
    "            'real_score': real_score,\n",
    "            'real_logits': real_logits,\n",
    "            'good_logits': good_logits,\n",
    "            'bad_logits': bad_logits,\n",
    "            'fake_better': fake_better,\n",
    "        }\n",
    "    return output\n"
   ]
  },
  {
   "cell_type": "markdown",
   "id": "d175bef99479dd09",
   "metadata": {},
   "source": [
    "# Training"
   ]
  },
  {
   "cell_type": "code",
   "execution_count": 12,
   "id": "840e2975-0553-4e47-952d-a3ae1a57928a",
   "metadata": {
    "scrolled": true,
    "tags": []
   },
   "outputs": [
    {
     "data": {
      "text/plain": "  0%|          | 0/625 [00:00<?, ?it/s]",
      "application/vnd.jupyter.widget-view+json": {
       "version_major": 2,
       "version_minor": 0,
       "model_id": "570d564c9450494eb86649f0ce456daf"
      }
     },
     "metadata": {},
     "output_type": "display_data"
    },
    {
     "name": "stdout",
     "output_type": "stream",
     "text": [
      "[Epoch 0] Learning Rates:\tgen=0.006053797112014738\tdis=0.006053797112014738\n",
      "[Epoch 0] Train Loss:\tgen=0.7943862163543701\tdis=0.6757849446296692\n",
      "[Epoch 0] Train Score:\t48.9497/35.3678\n",
      "[Epoch 0] Replacements:\t137\n",
      "[Epoch 0] Test Score:\t39.995\n"
     ]
    },
    {
     "data": {
      "text/plain": "  0%|          | 0/625 [00:00<?, ?it/s]",
      "application/vnd.jupyter.widget-view+json": {
       "version_major": 2,
       "version_minor": 0,
       "model_id": "03ec3a1ed7f24ba28f5baf8718cd0f4a"
      }
     },
     "metadata": {},
     "output_type": "display_data"
    },
    {
     "ename": "KeyboardInterrupt",
     "evalue": "",
     "output_type": "error",
     "traceback": [
      "\u001B[31m---------------------------------------------------------------------------\u001B[39m",
      "\u001B[31mKeyboardInterrupt\u001B[39m                         Traceback (most recent call last)",
      "\u001B[36mCell\u001B[39m\u001B[36m \u001B[39m\u001B[32mIn[12]\u001B[39m\u001B[32m, line 26\u001B[39m\n\u001B[32m     24\u001B[39m output = forward(batch, train=\u001B[38;5;28;01mTrue\u001B[39;00m)\n\u001B[32m     25\u001B[39m gen_loss = criterion(encourage=output[\u001B[33m'\u001B[39m\u001B[33mbad_logits\u001B[39m\u001B[33m'\u001B[39m], discourage=output[\u001B[33m'\u001B[39m\u001B[33mgood_logits\u001B[39m\u001B[33m'\u001B[39m])\n\u001B[32m---> \u001B[39m\u001B[32m26\u001B[39m gen_loss.backward()\n\u001B[32m     27\u001B[39m gen_optim.step()\n\u001B[32m     29\u001B[39m gen_losses.append(gen_loss.item())\n",
      "\u001B[36mFile \u001B[39m\u001B[32m~/miniconda3/envs/smartgd/lib/python3.11/site-packages/torch/_tensor.py:521\u001B[39m, in \u001B[36mTensor.backward\u001B[39m\u001B[34m(self, gradient, retain_graph, create_graph, inputs)\u001B[39m\n\u001B[32m    511\u001B[39m \u001B[38;5;28;01mif\u001B[39;00m has_torch_function_unary(\u001B[38;5;28mself\u001B[39m):\n\u001B[32m    512\u001B[39m     \u001B[38;5;28;01mreturn\u001B[39;00m handle_torch_function(\n\u001B[32m    513\u001B[39m         Tensor.backward,\n\u001B[32m    514\u001B[39m         (\u001B[38;5;28mself\u001B[39m,),\n\u001B[32m   (...)\u001B[39m\u001B[32m    519\u001B[39m         inputs=inputs,\n\u001B[32m    520\u001B[39m     )\n\u001B[32m--> \u001B[39m\u001B[32m521\u001B[39m torch.autograd.backward(\n\u001B[32m    522\u001B[39m     \u001B[38;5;28mself\u001B[39m, gradient, retain_graph, create_graph, inputs=inputs\n\u001B[32m    523\u001B[39m )\n",
      "\u001B[36mFile \u001B[39m\u001B[32m~/miniconda3/envs/smartgd/lib/python3.11/site-packages/torch/autograd/__init__.py:289\u001B[39m, in \u001B[36mbackward\u001B[39m\u001B[34m(tensors, grad_tensors, retain_graph, create_graph, grad_variables, inputs)\u001B[39m\n\u001B[32m    284\u001B[39m     retain_graph = create_graph\n\u001B[32m    286\u001B[39m \u001B[38;5;66;03m# The reason we repeat the same comment below is that\u001B[39;00m\n\u001B[32m    287\u001B[39m \u001B[38;5;66;03m# some Python versions print out the first line of a multi-line function\u001B[39;00m\n\u001B[32m    288\u001B[39m \u001B[38;5;66;03m# calls in the traceback and some print out the last line\u001B[39;00m\n\u001B[32m--> \u001B[39m\u001B[32m289\u001B[39m _engine_run_backward(\n\u001B[32m    290\u001B[39m     tensors,\n\u001B[32m    291\u001B[39m     grad_tensors_,\n\u001B[32m    292\u001B[39m     retain_graph,\n\u001B[32m    293\u001B[39m     create_graph,\n\u001B[32m    294\u001B[39m     inputs,\n\u001B[32m    295\u001B[39m     allow_unreachable=\u001B[38;5;28;01mTrue\u001B[39;00m,\n\u001B[32m    296\u001B[39m     accumulate_grad=\u001B[38;5;28;01mTrue\u001B[39;00m,\n\u001B[32m    297\u001B[39m )\n",
      "\u001B[36mFile \u001B[39m\u001B[32m~/miniconda3/envs/smartgd/lib/python3.11/site-packages/torch/autograd/graph.py:768\u001B[39m, in \u001B[36m_engine_run_backward\u001B[39m\u001B[34m(t_outputs, *args, **kwargs)\u001B[39m\n\u001B[32m    766\u001B[39m     unregister_hooks = _register_logging_hooks_on_whole_graph(t_outputs)\n\u001B[32m    767\u001B[39m \u001B[38;5;28;01mtry\u001B[39;00m:\n\u001B[32m--> \u001B[39m\u001B[32m768\u001B[39m     \u001B[38;5;28;01mreturn\u001B[39;00m Variable._execution_engine.run_backward(  \u001B[38;5;66;03m# Calls into the C++ engine to run the backward pass\u001B[39;00m\n\u001B[32m    769\u001B[39m         t_outputs, *args, **kwargs\n\u001B[32m    770\u001B[39m     )  \u001B[38;5;66;03m# Calls into the C++ engine to run the backward pass\u001B[39;00m\n\u001B[32m    771\u001B[39m \u001B[38;5;28;01mfinally\u001B[39;00m:\n\u001B[32m    772\u001B[39m     \u001B[38;5;28;01mif\u001B[39;00m attach_logging_hooks:\n",
      "\u001B[31mKeyboardInterrupt\u001B[39m: "
     ]
    }
   ],
   "source": [
    "start_epoch = 86\n",
    "for epoch in range(start_epoch, max_epoch):\n",
    "    train_loader, val_loader, test_loader = create_dataloaders()\n",
    "\n",
    "    generator.train()\n",
    "    discriminator.train()\n",
    "    gen_losses = []\n",
    "    dis_losses = []\n",
    "    fake_scores = []\n",
    "    real_scores = []\n",
    "    replacements = 0\n",
    "\n",
    "    for batch in tqdm(train_loader):\n",
    "        batch = batch.to(device)\n",
    "\n",
    "        generator.zero_grad()\n",
    "        discriminator.zero_grad()\n",
    "        output = forward(batch, train=True)\n",
    "        dis_loss = criterion(encourage=output['good_logits'], discourage=output['bad_logits'])\n",
    "        dis_loss.backward()\n",
    "        dis_optim.step()\n",
    "\n",
    "        generator.zero_grad()\n",
    "        discriminator.zero_grad()\n",
    "        output = forward(batch, train=True)\n",
    "        gen_loss = criterion(encourage=output['bad_logits'], discourage=output['good_logits'])\n",
    "        gen_loss.backward()\n",
    "        gen_optim.step()\n",
    "\n",
    "        gen_losses.append(gen_loss.item())\n",
    "        dis_losses.append(dis_loss.item())\n",
    "        fake_scores += output['fake_score'].tolist()\n",
    "        real_scores += output['real_score'].tolist()\n",
    "\n",
    "        batch.fake_pos = output['fake_pos']\n",
    "        for fake_better, data in zip(output['fake_better'], batch.to_data_list()):\n",
    "            if fake_better:\n",
    "                target_layouts[data['index']] = data['fake_pos'].detach().cpu().numpy()\n",
    "                replacements += 1\n",
    "\n",
    "    gen_scheduler.step()\n",
    "    dis_scheduler.step()\n",
    "    print(f'[Epoch {epoch}] Learning Rates:\\tgen={gen_scheduler.get_last_lr()[0]}\\tdis={dis_scheduler.get_last_lr()[0]}')\n",
    "    print(f'[Epoch {epoch}] Train Loss:\\tgen={np.mean(gen_losses)}\\tdis={np.mean(dis_losses)}')\n",
    "    print(f'[Epoch {epoch}] Train Score:\\t{np.mean(fake_scores)}/{np.mean(real_scores)}')\n",
    "    print(f'[Epoch {epoch}] Replacements:\\t{replacements}')\n",
    "\n",
    "    with torch.no_grad():\n",
    "        generator.eval()\n",
    "        discriminator.eval()\n",
    "        scores = []\n",
    "        for batch in tqdm(test_loader, disable=True):\n",
    "            batch = batch.to(device)\n",
    "            output = forward(batch)\n",
    "            scores += output['fake_score'].tolist()\n",
    "\n",
    "        print(f'[Epoch {epoch}] Test Score:\\t{np.mean(scores)}')\n",
    "    torch.save(generator.state_dict(), f\"./{model_name}/generator_{epoch}.pt\")\n",
    "    torch.save(discriminator.state_dict(), f\"./{model_name}/discriminator_{epoch}.pt\")\n",
    "    torch.save(gen_optim.state_dict(), f\"./{model_name}/gen_optim_{epoch}.pt\")\n",
    "    torch.save(dis_optim.state_dict(), f\"./{model_name}/dis_optim_{epoch}.pt\")\n",
    "    torch.save(target_layouts, f\"./{model_name}/layouts_{epoch}.pt\")"
   ]
  },
  {
   "cell_type": "markdown",
   "id": "343084810e149ec6",
   "metadata": {},
   "source": [
    "# Evaluation"
   ]
  },
  {
   "cell_type": "code",
   "execution_count": null,
   "id": "5df250c999ffe626",
   "metadata": {},
   "outputs": [],
   "source": [
    "_, _, test_loader = create_dataloaders()\n",
    "for epoch in range(0, 2000):\n",
    "\n",
    "    generator.load_state_dict(torch.load(f\"/content/drive/MyDrive/smartgd/{model_name}/generator_{epoch}.pt\"))\n",
    "    discriminator.load_state_dict(torch.load(f\"/content/drive/MyDrive/smartgd/{model_name}/discriminator_{epoch}.pt\"))\n",
    "\n",
    "    with torch.no_grad():\n",
    "        generator.eval()\n",
    "        discriminator.eval()\n",
    "        scores = []\n",
    "        for batch in tqdm(test_loader, disable=True):\n",
    "            batch = batch.to(device)\n",
    "            output = forward(batch)\n",
    "            scores += output['fake_score'].tolist()\n",
    "\n",
    "        print(f'[Epoch {epoch}] Test Score:\\t{np.mean(scores)}')"
   ]
  }
 ],
 "metadata": {
  "kernelspec": {
   "display_name": "Python 3 (ipykernel)",
   "language": "python",
   "name": "python3"
  },
  "language_info": {
   "codemirror_mode": {
    "name": "ipython",
    "version": 3
   },
   "file_extension": ".py",
   "mimetype": "text/x-python",
   "name": "python",
   "nbconvert_exporter": "python",
   "pygments_lexer": "ipython3",
   "version": "3.11.11"
  },
  "widgets": {
   "application/vnd.jupyter.widget-state+json": {
    "state": {
     "1a6eaadc214a40b8a2fa048f934db6d0": {
      "model_module": "@jupyter-widgets/controls",
      "model_module_version": "1.5.0",
      "model_name": "HTMLModel",
      "state": {
       "layout": "IPY_MODEL_40c664d572b84ef18b87ead26e1394fd",
       "style": "IPY_MODEL_80769a69b258448ba022beb13ba6364a",
       "value": " 2/79 [03:39&lt;2:08:39, 100.26s/it]"
      }
     },
     "1d73892e8c254708ad3918446d1b971d": {
      "model_module": "@jupyter-widgets/controls",
      "model_module_version": "1.5.0",
      "model_name": "HTMLModel",
      "state": {
       "layout": "IPY_MODEL_27d2c0b03e77463ca2d1ef57e2dbb80c",
       "style": "IPY_MODEL_5a505a3ee60b4cec94a909ee77bc9e88",
       "value": "Loading graphs: 100%"
      }
     },
     "21287ad6d5e94484936bd93b6f85b49f": {
      "model_module": "@jupyter-widgets/controls",
      "model_module_version": "1.5.0",
      "model_name": "DescriptionStyleModel",
      "state": {
       "description_width": ""
      }
     },
     "24c3a3de365e4f25b0a1bea6f0fb668c": {
      "model_module": "@jupyter-widgets/controls",
      "model_module_version": "1.5.0",
      "model_name": "HTMLModel",
      "state": {
       "layout": "IPY_MODEL_7418bd6443174ebf9271fa554d755cb6",
       "style": "IPY_MODEL_89249e08e1e3471682df33d354d7719a",
       "value": " 11534/11534 [02:08&lt;00:00, 135.57it/s]"
      }
     },
     "27d2c0b03e77463ca2d1ef57e2dbb80c": {
      "model_module": "@jupyter-widgets/base",
      "model_module_version": "1.2.0",
      "model_name": "LayoutModel",
      "state": {}
     },
     "40c664d572b84ef18b87ead26e1394fd": {
      "model_module": "@jupyter-widgets/base",
      "model_module_version": "1.2.0",
      "model_name": "LayoutModel",
      "state": {}
     },
     "45147e50fc8f4baebe21cd0514d03651": {
      "model_module": "@jupyter-widgets/base",
      "model_module_version": "1.2.0",
      "model_name": "LayoutModel",
      "state": {}
     },
     "4df22612cbdf457690de3a21e160aa38": {
      "model_module": "@jupyter-widgets/base",
      "model_module_version": "1.2.0",
      "model_name": "LayoutModel",
      "state": {}
     },
     "5a505a3ee60b4cec94a909ee77bc9e88": {
      "model_module": "@jupyter-widgets/controls",
      "model_module_version": "1.5.0",
      "model_name": "DescriptionStyleModel",
      "state": {
       "description_width": ""
      }
     },
     "6e77e20f7c004d279691b884ca326aad": {
      "model_module": "@jupyter-widgets/controls",
      "model_module_version": "1.5.0",
      "model_name": "HBoxModel",
      "state": {
       "children": [
        "IPY_MODEL_8b937b880a894a71a97b31715f2a1f4c",
        "IPY_MODEL_db06b803a3a24d01b9b1c2b1e05ae83a",
        "IPY_MODEL_1a6eaadc214a40b8a2fa048f934db6d0"
       ],
       "layout": "IPY_MODEL_4df22612cbdf457690de3a21e160aa38"
      }
     },
     "73376bdf366c44bfb463627255caa47e": {
      "model_module": "@jupyter-widgets/controls",
      "model_module_version": "1.5.0",
      "model_name": "FloatProgressModel",
      "state": {
       "bar_style": "success",
       "layout": "IPY_MODEL_9e7c9d6193914fe0aaa1eebe6b6c059d",
       "max": 11534,
       "style": "IPY_MODEL_8b02a3651eb54471a990e3928f56d001",
       "value": 11534
      }
     },
     "7418bd6443174ebf9271fa554d755cb6": {
      "model_module": "@jupyter-widgets/base",
      "model_module_version": "1.2.0",
      "model_name": "LayoutModel",
      "state": {}
     },
     "80769a69b258448ba022beb13ba6364a": {
      "model_module": "@jupyter-widgets/controls",
      "model_module_version": "1.5.0",
      "model_name": "DescriptionStyleModel",
      "state": {
       "description_width": ""
      }
     },
     "89249e08e1e3471682df33d354d7719a": {
      "model_module": "@jupyter-widgets/controls",
      "model_module_version": "1.5.0",
      "model_name": "DescriptionStyleModel",
      "state": {
       "description_width": ""
      }
     },
     "8b02a3651eb54471a990e3928f56d001": {
      "model_module": "@jupyter-widgets/controls",
      "model_module_version": "1.5.0",
      "model_name": "ProgressStyleModel",
      "state": {
       "description_width": ""
      }
     },
     "8b937b880a894a71a97b31715f2a1f4c": {
      "model_module": "@jupyter-widgets/controls",
      "model_module_version": "1.5.0",
      "model_name": "HTMLModel",
      "state": {
       "layout": "IPY_MODEL_45147e50fc8f4baebe21cd0514d03651",
       "style": "IPY_MODEL_21287ad6d5e94484936bd93b6f85b49f",
       "value": "  3%"
      }
     },
     "93b07268006b4c8ea3508cc0a8708e7a": {
      "model_module": "@jupyter-widgets/base",
      "model_module_version": "1.2.0",
      "model_name": "LayoutModel",
      "state": {}
     },
     "9e7c9d6193914fe0aaa1eebe6b6c059d": {
      "model_module": "@jupyter-widgets/base",
      "model_module_version": "1.2.0",
      "model_name": "LayoutModel",
      "state": {}
     },
     "db06b803a3a24d01b9b1c2b1e05ae83a": {
      "model_module": "@jupyter-widgets/controls",
      "model_module_version": "1.5.0",
      "model_name": "FloatProgressModel",
      "state": {
       "bar_style": "danger",
       "layout": "IPY_MODEL_f4c410d18e994023b2ba1fc6ed46b5d1",
       "max": 79,
       "style": "IPY_MODEL_e659a35bdcf6428abeb1b6f9c003c325",
       "value": 2
      }
     },
     "dcc6a4b6eeac482ab4b1935722126823": {
      "model_module": "@jupyter-widgets/controls",
      "model_module_version": "1.5.0",
      "model_name": "HBoxModel",
      "state": {
       "children": [
        "IPY_MODEL_1d73892e8c254708ad3918446d1b971d",
        "IPY_MODEL_73376bdf366c44bfb463627255caa47e",
        "IPY_MODEL_24c3a3de365e4f25b0a1bea6f0fb668c"
       ],
       "layout": "IPY_MODEL_93b07268006b4c8ea3508cc0a8708e7a"
      }
     },
     "e659a35bdcf6428abeb1b6f9c003c325": {
      "model_module": "@jupyter-widgets/controls",
      "model_module_version": "1.5.0",
      "model_name": "ProgressStyleModel",
      "state": {
       "description_width": ""
      }
     },
     "f4c410d18e994023b2ba1fc6ed46b5d1": {
      "model_module": "@jupyter-widgets/base",
      "model_module_version": "1.2.0",
      "model_name": "LayoutModel",
      "state": {}
     }
    },
    "version_major": 2,
    "version_minor": 0
   }
  }
 },
 "nbformat": 4,
 "nbformat_minor": 5
}
